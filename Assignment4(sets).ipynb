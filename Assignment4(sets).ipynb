{
 "cells": [
  {
   "cell_type": "code",
   "execution_count": 1,
   "id": "7ce948a6-c1fb-40f0-aebb-e5baa3dca941",
   "metadata": {},
   "outputs": [
    {
     "name": "stdout",
     "output_type": "stream",
     "text": [
      "Set: {3, 20, 7, 11, 15}\n"
     ]
    }
   ],
   "source": [
    "# Create a set with five different numbers\n",
    "my_set = {3, 7, 11, 15, 20}\n",
    "print(\"Set:\", my_set)\n"
   ]
  },
  {
   "cell_type": "code",
   "execution_count": 3,
   "id": "eff05578-7bfb-4b7a-8c1d-89a348cd644b",
   "metadata": {},
   "outputs": [
    {
     "name": "stdout",
     "output_type": "stream",
     "text": [
      "Updated Set: {3, 20, 25, 11, 15}\n"
     ]
    }
   ],
   "source": [
    "# Add an element\n",
    "my_set.add(25)\n",
    "# Remove an element\n",
    "my_set.remove(7)\n",
    "\n",
    "print(\"Updated Set:\", my_set)\n"
   ]
  },
  {
   "cell_type": "code",
   "execution_count": 9,
   "id": "ad5d5d68-6221-4e98-8a4b-3dc3808e7a97",
   "metadata": {},
   "outputs": [
    {
     "data": {
      "text/plain": [
       "True"
      ]
     },
     "execution_count": 9,
     "metadata": {},
     "output_type": "execute_result"
    }
   ],
   "source": [
    "##Check if a given element exists in the set.\n",
    "11 in my_set"
   ]
  },
  {
   "cell_type": "code",
   "execution_count": 15,
   "id": "7234b7fe-bdab-4b4d-829e-57e09665495b",
   "metadata": {},
   "outputs": [
    {
     "data": {
      "text/plain": [
       "False"
      ]
     },
     "execution_count": 15,
     "metadata": {},
     "output_type": "execute_result"
    }
   ],
   "source": [
    "35 in my_set"
   ]
  },
  {
   "cell_type": "code",
   "execution_count": 17,
   "id": "fc9b2888-df44-49b7-b65b-0144b0a35e03",
   "metadata": {},
   "outputs": [
    {
     "name": "stdout",
     "output_type": "stream",
     "text": [
      "Set 1: {1, 2, 3, 4, 5}\n",
      "Set 2: {4, 5, 6, 7, 8}\n",
      "\n",
      "Union: {1, 2, 3, 4, 5, 6, 7, 8}\n",
      "Intersection: {4, 5}\n",
      "Difference (Set1 - Set2): {1, 2, 3}\n"
     ]
    }
   ],
   "source": [
    "# Define two sets\n",
    "set1 = {1, 2, 3, 4, 5}\n",
    "set2 = {4, 5, 6, 7, 8}\n",
    "\n",
    "# Find the union\n",
    "union_set = set1.union(set2)\n",
    "\n",
    "# Find the intersection\n",
    "intersection_set = set1.intersection(set2)\n",
    "\n",
    "# Find the difference (elements in set1 but not in set2)\n",
    "difference_set = set1.difference(set2)\n",
    "\n",
    "# Display the results\n",
    "print(\"Set 1:\", set1)\n",
    "print(\"Set 2:\", set2)\n",
    "print(\"\\nUnion:\", union_set)\n",
    "print(\"Intersection:\", intersection_set)\n",
    "print(\"Difference (Set1 - Set2):\", difference_set)\n"
   ]
  },
  {
   "cell_type": "code",
   "execution_count": 29,
   "id": "44206e69-0bd8-49e3-b1ef-8efd2daa14f0",
   "metadata": {},
   "outputs": [
    {
     "name": "stdout",
     "output_type": "stream",
     "text": [
      "Set A: {1, 2, 3}\n",
      "Set B: {1, 2, 3, 4, 5}\n",
      "Set A is a subset of Set B.\n"
     ]
    }
   ],
   "source": [
    "# Define two sets\n",
    "set_a = {1, 2, 3}\n",
    "set_b = {1, 2, 3, 4, 5}\n",
    "\n",
    "# Check if set_a is a subset of set_b\n",
    "is_subset = set_a.issubset(set_b)\n",
    "\n",
    "# Display the result\n",
    "print(\"Set A:\", set_a)\n",
    "print(\"Set B:\", set_b)\n",
    "\n",
    "if is_subset:\n",
    "    print(\"Set A is a subset of Set B.\")\n",
    "else:\n",
    "    print(\"Set A is NOT a subset of Set B.\")\n"
   ]
  },
  {
   "cell_type": "code",
   "execution_count": 31,
   "id": "1c313e85-d9c1-405a-a95d-99db69529f07",
   "metadata": {},
   "outputs": [
    {
     "name": "stdout",
     "output_type": "stream",
     "text": [
      "Original List: [1, 2, 2, 3, 4, 4, 5, 5, 5]\n",
      "Set without duplicates: {1, 2, 3, 4, 5}\n"
     ]
    }
   ],
   "source": [
    "# Define a list with duplicate elements\n",
    "my_list = [1, 2, 2, 3, 4, 4, 5, 5, 5]\n",
    "\n",
    "# Convert the list to a set to remove duplicates\n",
    "unique_set = set(my_list)\n",
    "\n",
    "print(\"Original List:\", my_list)\n",
    "print(\"Set without duplicates:\", unique_set)\n"
   ]
  },
  {
   "cell_type": "code",
   "execution_count": 41,
   "id": "21c80df6-42d8-4401-8f13-3d68fe7f6aa8",
   "metadata": {},
   "outputs": [
    {
     "name": "stdout",
     "output_type": "stream",
     "text": [
      "Students in Course A: {'senior', 'Akhila', 'tiana', 'mouni'}\n",
      "Students in Course B: {'senior', 'Jyothi', 'tiana', 'Alekya'}\n",
      "\n",
      "Students enrolled in both courses: {'senior', 'tiana'}\n"
     ]
    }
   ],
   "source": [
    "# Students enrolled in Course A\n",
    "course_A = {\"mouni\", \"Akhila\", \"tiana\", \"senior\"}\n",
    "\n",
    "# Students enrolled in Course B\n",
    "course_B = {\"tiana\", \"senior\", \"Alekya\", \"Jyothi\"}\n",
    "\n",
    "# Find students who are in both courses\n",
    "common_students = course_A.intersection(course_B)\n",
    "\n",
    "print(\"Students in Course A:\", course_A)\n",
    "print(\"Students in Course B:\", course_B)\n",
    "print(\"\\nStudents enrolled in both courses:\", common_students)\n"
   ]
  },
  {
   "cell_type": "code",
   "execution_count": 35,
   "id": "8dd01931-91ce-4e2f-9725-890a3d154707",
   "metadata": {},
   "outputs": [
    {
     "name": "stdout",
     "output_type": "stream",
     "text": [
      "Set 1: {1, 2, 3, 4, 5}\n",
      "Set 2: {3, 4, 5, 6, 7}\n",
      "Set 3: {0, 3, 4, 8, 9}\n",
      "\n",
      "Common elements in all three sets: {3, 4}\n"
     ]
    }
   ],
   "source": [
    "# Define three sets\n",
    "set1 = {1, 2, 3, 4, 5}\n",
    "set2 = {3, 4, 5, 6, 7}\n",
    "set3 = {0, 3, 4, 8, 9}\n",
    "\n",
    "# Find common elements among all three sets\n",
    "common_elements = set1.intersection(set2, set3)\n",
    "\n",
    "print(\"Set 1:\", set1)\n",
    "print(\"Set 2:\", set2)\n",
    "print(\"Set 3:\", set3)\n",
    "print(\"\\nCommon elements in all three sets:\", common_elements)\n"
   ]
  },
  {
   "cell_type": "code",
   "execution_count": 37,
   "id": "f3095638-02e7-4733-a355-bd43d220749c",
   "metadata": {},
   "outputs": [
    {
     "name": "stdout",
     "output_type": "stream",
     "text": [
      "Set of squares from 1 to 10: {64, 1, 4, 36, 100, 9, 16, 49, 81, 25}\n"
     ]
    }
   ],
   "source": [
    "# Using set comprehension to create a set of squares\n",
    "squares = {x**2 for x in range(1, 11)}\n",
    "\n",
    "print(\"Set of squares from 1 to 10:\", squares)\n"
   ]
  },
  {
   "cell_type": "code",
   "execution_count": 39,
   "id": "b8b0f7f7-7a22-4a24-a381-9ff5f1b6106c",
   "metadata": {},
   "outputs": [
    {
     "name": "stdout",
     "output_type": "stream",
     "text": [
      "Normal set: {1, 2, 3, 4}\n",
      "Frozenset: frozenset({1, 2, 3, 4})\n"
     ]
    }
   ],
   "source": [
    "# Creating a normal set\n",
    "normal_set = {1, 2, 3, 4}\n",
    "\n",
    "# Creating a frozenset\n",
    "frozen_set = frozenset([1, 2, 3, 4])\n",
    "\n",
    "print(\"Normal set:\", normal_set)\n",
    "print(\"Frozenset:\", frozen_set)\n"
   ]
  },
  {
   "cell_type": "code",
   "execution_count": null,
   "id": "b69c8571-34e3-4e7d-b80d-4c7376fb277f",
   "metadata": {},
   "outputs": [],
   "source": [
    "#A frozenset is just like a set, but immutable — once created, you cannot change it (no add, remove, etc.)."
   ]
  }
 ],
 "metadata": {
  "kernelspec": {
   "display_name": "Python 3 (ipykernel)",
   "language": "python",
   "name": "python3"
  },
  "language_info": {
   "codemirror_mode": {
    "name": "ipython",
    "version": 3
   },
   "file_extension": ".py",
   "mimetype": "text/x-python",
   "name": "python",
   "nbconvert_exporter": "python",
   "pygments_lexer": "ipython3",
   "version": "3.12.4"
  }
 },
 "nbformat": 4,
 "nbformat_minor": 5
}
